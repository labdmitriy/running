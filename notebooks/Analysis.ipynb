{
 "cells": [
  {
   "cell_type": "markdown",
   "metadata": {},
   "source": [
    "Links:  \n",
    "https://towardsdatascience.com/how-tracking-apps-analyse-your-gps-data-a-hands-on-tutorial-in-python-756d4db6715d  \n",
    "\n"
   ]
  },
  {
   "cell_type": "code",
   "execution_count": 1,
   "metadata": {},
   "outputs": [],
   "source": [
    "from pathlib import Path\n",
    "from tqdm import tqdm\n",
    "\n",
    "import gpxpy\n",
    "import mplleaflet\n",
    "\n",
    "import numpy as np\n",
    "import pandas as pd\n",
    "\n",
    "%matplotlib inline\n",
    "import matplotlib.pyplot as plt"
   ]
  },
  {
   "cell_type": "code",
   "execution_count": 11,
   "metadata": {},
   "outputs": [],
   "source": [
    "DATA_PATH = Path('../data')\n",
    "GPX_DATA = DATA_PATH / 'gpx'"
   ]
  },
  {
   "cell_type": "code",
   "execution_count": 12,
   "metadata": {},
   "outputs": [
    {
     "name": "stdout",
     "output_type": "stream",
     "text": [
      "(303255, 5)\n"
     ]
    },
    {
     "data": {
      "text/html": [
       "<div>\n",
       "<style scoped>\n",
       "    .dataframe tbody tr th:only-of-type {\n",
       "        vertical-align: middle;\n",
       "    }\n",
       "\n",
       "    .dataframe tbody tr th {\n",
       "        vertical-align: top;\n",
       "    }\n",
       "\n",
       "    .dataframe thead th {\n",
       "        text-align: right;\n",
       "    }\n",
       "</style>\n",
       "<table border=\"1\" class=\"dataframe\">\n",
       "  <thead>\n",
       "    <tr style=\"text-align: right;\">\n",
       "      <th></th>\n",
       "      <th>file_name</th>\n",
       "      <th>lon</th>\n",
       "      <th>lat</th>\n",
       "      <th>alt</th>\n",
       "      <th>time</th>\n",
       "    </tr>\n",
       "  </thead>\n",
       "  <tbody>\n",
       "    <tr>\n",
       "      <th>0</th>\n",
       "      <td>3310079709.gpx</td>\n",
       "      <td>38.123367</td>\n",
       "      <td>55.591830</td>\n",
       "      <td>131.5</td>\n",
       "      <td>2020-02-04 10:10:35+00:00</td>\n",
       "    </tr>\n",
       "    <tr>\n",
       "      <th>1</th>\n",
       "      <td>3310079709.gpx</td>\n",
       "      <td>38.123469</td>\n",
       "      <td>55.591913</td>\n",
       "      <td>131.4</td>\n",
       "      <td>2020-02-04 10:10:42+00:00</td>\n",
       "    </tr>\n",
       "    <tr>\n",
       "      <th>2</th>\n",
       "      <td>3310079709.gpx</td>\n",
       "      <td>38.123633</td>\n",
       "      <td>55.591948</td>\n",
       "      <td>131.4</td>\n",
       "      <td>2020-02-04 10:10:46+00:00</td>\n",
       "    </tr>\n",
       "    <tr>\n",
       "      <th>3</th>\n",
       "      <td>3310079709.gpx</td>\n",
       "      <td>38.123776</td>\n",
       "      <td>55.591903</td>\n",
       "      <td>131.3</td>\n",
       "      <td>2020-02-04 10:10:50+00:00</td>\n",
       "    </tr>\n",
       "    <tr>\n",
       "      <th>4</th>\n",
       "      <td>3310079709.gpx</td>\n",
       "      <td>38.123870</td>\n",
       "      <td>55.591801</td>\n",
       "      <td>131.3</td>\n",
       "      <td>2020-02-04 10:10:54+00:00</td>\n",
       "    </tr>\n",
       "  </tbody>\n",
       "</table>\n",
       "</div>"
      ],
      "text/plain": [
       "        file_name        lon        lat    alt                      time\n",
       "0  3310079709.gpx  38.123367  55.591830  131.5 2020-02-04 10:10:35+00:00\n",
       "1  3310079709.gpx  38.123469  55.591913  131.4 2020-02-04 10:10:42+00:00\n",
       "2  3310079709.gpx  38.123633  55.591948  131.4 2020-02-04 10:10:46+00:00\n",
       "3  3310079709.gpx  38.123776  55.591903  131.3 2020-02-04 10:10:50+00:00\n",
       "4  3310079709.gpx  38.123870  55.591801  131.3 2020-02-04 10:10:54+00:00"
      ]
     },
     "execution_count": 12,
     "metadata": {},
     "output_type": "execute_result"
    }
   ],
   "source": [
    "points_list = []\n",
    "\n",
    "for gpx_file in list(GPX_DATA.glob('*.gpx')):\n",
    "    with open(gpx_file, 'r') as f:\n",
    "        gpx = gpxpy.parse(f)\n",
    "        \n",
    "    data = gpx.tracks[0].segments[0].points\n",
    "    \n",
    "    for point in data:\n",
    "        points_list.append({'file_name': gpx_file.name, \n",
    "                            'lon': point.longitude, 'lat' : point.latitude, \n",
    "                            'alt' : point.elevation, 'time' : point.time})\n",
    "        \n",
    "df = pd.DataFrame(points_list)\n",
    "print(df.shape)\n",
    "df.head()"
   ]
  },
  {
   "cell_type": "code",
   "execution_count": 13,
   "metadata": {},
   "outputs": [
    {
     "name": "stdout",
     "output_type": "stream",
     "text": [
      "(302248, 5)\n"
     ]
    }
   ],
   "source": [
    "excluded_files = [\n",
    "    '3749482548.gpx' # Lake\n",
    "]\n",
    "\n",
    "plot_df = df.sort_values('time').copy()\n",
    "plot_files = plot_df['file_name'].drop_duplicates().tolist()\n",
    "plot_files = [file_name for file_name in plot_files if file_name not in excluded_files]\n",
    "plot_df = plot_df[plot_df['file_name'].isin(plot_files)]\n",
    "print(plot_df.shape)"
   ]
  },
  {
   "cell_type": "code",
   "execution_count": 14,
   "metadata": {},
   "outputs": [],
   "source": [
    "fig, axes = plt.subplots(figsize=(16, 16))\n",
    "\n",
    "for i, gpx_file in enumerate(plot_files):\n",
    "    route_df = plot_df[plot_df['file_name'] == gpx_file]\n",
    "    plt.plot(route_df['lon'], route_df['lat'], linewidth=3)\n",
    "\n",
    "plt.tight_layout()\n",
    "mplleaflet.show(fig=fig, path=DATA_PATH/'map.html')"
   ]
  }
 ],
 "metadata": {
  "kernelspec": {
   "display_name": "running",
   "language": "python",
   "name": "running"
  },
  "language_info": {
   "codemirror_mode": {
    "name": "ipython",
    "version": 3
   },
   "file_extension": ".py",
   "mimetype": "text/x-python",
   "name": "python",
   "nbconvert_exporter": "python",
   "pygments_lexer": "ipython3",
   "version": "3.10.4"
  }
 },
 "nbformat": 4,
 "nbformat_minor": 4
}
